{
 "cells": [
  {
   "cell_type": "markdown",
   "id": "6dc035e8-5d3e-4771-b1b6-dc157d4aafb2",
   "metadata": {},
   "source": [
    "Link demo: https://share.streamlit.io/thanhtruong1712/fake-news-detection/streamlit.py"
   ]
  },
  {
   "cell_type": "markdown",
   "id": "c33b833d-1eb0-4771-b3dc-601690a7bc33",
   "metadata": {},
   "source": [
    "Tiến độ hoàn thành của Project : 100%"
   ]
  },
  {
   "cell_type": "markdown",
   "id": "e2cd29dc-ed8c-4cf6-9323-d0d73d0af70a",
   "metadata": {},
   "source": [
    "## Danh sách thành viên trong nhóm\n",
    "| MSSV        | Họ và tên          | \n",
    "| ----------- | -----------------  | \n",
    "| 1712770     | Trương Thị Lệ Thanh|\n",
    "| 1712771     | Bùi Thái Tấn Thành | "
   ]
  },
  {
   "cell_type": "markdown",
   "id": "bfc26d25-35c2-4ad3-9ae9-cdd681e25e1a",
   "metadata": {},
   "source": [
    "## Bảng phân công công việc\n",
    "| Công việc | Thành viên phụ trách | Mức độ hoàn thành | \n",
    "| --------| -----------------  | ---------------------|\n",
    "| Tiền xử lý văn bản tiếng Việt | Thanh & Thành | 100% |\n",
    "| EDA (khám phá dữ liệu) | Thanh & Thành | 100% |\n",
    "| Mô hình hóa | Thanh & Thành | 100% |\n",
    "| Deploy mô hình | Thanh & Thành | 100% |\n"
   ]
  },
  {
   "cell_type": "markdown",
   "id": "2f70b860-b67f-4a28-a253-2b9547cc8ab9",
   "metadata": {},
   "source": [
    "# I. Dữ liệu"
   ]
  },
  {
   "cell_type": "markdown",
   "id": "55321420-ac4d-4b1c-9153-a41d3ca64d17",
   "metadata": {},
   "source": [
    "## Thông tin dữ liệu"
   ]
  },
  {
   "cell_type": "markdown",
   "id": "9cd5ae99-6118-4eb2-a8a6-4d5373111e04",
   "metadata": {},
   "source": [
    "#### Nguồn dữ liệu: VNFD Dataset"
   ]
  },
  {
   "cell_type": "markdown",
   "id": "1ebfc5d6-8ebb-435a-bf03-2e632165fb15",
   "metadata": {},
   "source": [
    "- Tập dữ liệu 223 record bản tin tiếng Việt, gồm 2 nhãn: 1 (tin giả) và 0 (tin thật)"
   ]
  },
  {
   "cell_type": "markdown",
   "id": "f80a5744-71f7-4d27-8491-e5f04b51a42d",
   "metadata": {},
   "source": [
    "# II. Import các thư viện cần thiết"
   ]
  },
  {
   "cell_type": "code",
   "execution_count": 1,
   "id": "4dbc9cb1-61de-4d98-b6ec-e18f0bba3373",
   "metadata": {},
   "outputs": [
    {
     "name": "stderr",
     "output_type": "stream",
     "text": [
      "2022-01-08 01:35:07.516293: W tensorflow/stream_executor/platform/default/dso_loader.cc:64] Could not load dynamic library 'libcudart.so.11.0'; dlerror: libcudart.so.11.0: cannot open shared object file: No such file or directory\n",
      "2022-01-08 01:35:07.516367: I tensorflow/stream_executor/cuda/cudart_stub.cc:29] Ignore above cudart dlerror if you do not have a GPU set up on your machine.\n",
      "[nltk_data] Downloading package wordnet to\n",
      "[nltk_data]     /home/thanhtruong/nltk_data...\n",
      "[nltk_data]   Package wordnet is already up-to-date!\n",
      "[nltk_data] Downloading package omw-1.4 to\n",
      "[nltk_data]     /home/thanhtruong/nltk_data...\n",
      "[nltk_data]   Package omw-1.4 is already up-to-date!\n",
      "[nltk_data] Downloading package punkt to\n",
      "[nltk_data]     /home/thanhtruong/nltk_data...\n",
      "[nltk_data]   Package punkt is already up-to-date!\n"
     ]
    }
   ],
   "source": [
    "import pandas as pd\n",
    "import numpy as np\n",
    "import re\n",
    "import string\n",
    "import nltk\n",
    "import sklearn\n",
    "import pickle\n",
    "import tensorflow\n",
    "nltk.download('wordnet')\n",
    "nltk.download('omw-1.4')\n",
    "nltk.download('punkt')\n",
    "from tqdm import tqdm\n",
    "\n",
    "from nltk.corpus import stopwords\n",
    "from nltk.stem import WordNetLemmatizer\n",
    "from nltk.tokenize import word_tokenize\n",
    "\n",
    "from tensorflow.keras.models import Model, load_model\n",
    "from tensorflow.keras.preprocessing.text import Tokenizer\n",
    "from tensorflow.keras.layers import *\n",
    "from tensorflow.keras.preprocessing.sequence import pad_sequences\n",
    "\n",
    "from sklearn.model_selection import train_test_split\n",
    "from sklearn.pipeline import Pipeline\n",
    "from sklearn.feature_extraction.text import CountVectorizer\n",
    "from sklearn.feature_extraction.text import TfidfTransformer\n",
    "from sklearn.metrics import plot_confusion_matrix,roc_curve,auc\n",
    "from sklearn.linear_model import LogisticRegression\n",
    "from sklearn.ensemble import GradientBoostingClassifier\n",
    "from sklearn.naive_bayes import MultinomialNB\n",
    "from sklearn.naive_bayes import BernoulliNB\n",
    "from sklearn.tree import DecisionTreeClassifier\n",
    "from sklearn.ensemble import RandomForestClassifier\n",
    "\n",
    "import matplotlib.pyplot as plt"
   ]
  },
  {
   "cell_type": "markdown",
   "id": "63ab6757-0c63-4ef8-ad4a-68f62445b9ae",
   "metadata": {},
   "source": [
    "# III. Khám phá dữ liệu"
   ]
  },
  {
   "cell_type": "markdown",
   "id": "59c182fb-c9ac-4a3d-b2dc-f51161e3b730",
   "metadata": {},
   "source": [
    "### Đọc dữ liệu từ file csv vào dataframe"
   ]
  },
  {
   "cell_type": "code",
   "execution_count": 2,
   "id": "0fdad32b-8b85-451a-ba1c-934fb79bb522",
   "metadata": {},
   "outputs": [
    {
     "data": {
      "text/html": [
       "<div>\n",
       "<style scoped>\n",
       "    .dataframe tbody tr th:only-of-type {\n",
       "        vertical-align: middle;\n",
       "    }\n",
       "\n",
       "    .dataframe tbody tr th {\n",
       "        vertical-align: top;\n",
       "    }\n",
       "\n",
       "    .dataframe thead th {\n",
       "        text-align: right;\n",
       "    }\n",
       "</style>\n",
       "<table border=\"1\" class=\"dataframe\">\n",
       "  <thead>\n",
       "    <tr style=\"text-align: right;\">\n",
       "      <th></th>\n",
       "      <th>text</th>\n",
       "      <th>domain</th>\n",
       "      <th>label</th>\n",
       "    </tr>\n",
       "  </thead>\n",
       "  <tbody>\n",
       "    <tr>\n",
       "      <th>0</th>\n",
       "      <td>Thủ tướng Abe cúi đầu xin lỗi vì hành động phi...</td>\n",
       "      <td>binhluan.biz</td>\n",
       "      <td>1</td>\n",
       "    </tr>\n",
       "    <tr>\n",
       "      <th>1</th>\n",
       "      <td>Thủ tướng Nhật cúi đầu xin lỗi vì tinh thần ph...</td>\n",
       "      <td>www.ipick.vn</td>\n",
       "      <td>1</td>\n",
       "    </tr>\n",
       "    <tr>\n",
       "      <th>2</th>\n",
       "      <td>Choáng! Cơ trưởng đeo khăn quàng quẩy banh nóc...</td>\n",
       "      <td>tintucqpvn.net</td>\n",
       "      <td>1</td>\n",
       "    </tr>\n",
       "    <tr>\n",
       "      <th>3</th>\n",
       "      <td>Chưa bao giờ nhạc Kpop lại dễ hát đến thế!!!\\n...</td>\n",
       "      <td>tintucqpvn.net</td>\n",
       "      <td>1</td>\n",
       "    </tr>\n",
       "    <tr>\n",
       "      <th>4</th>\n",
       "      <td>Đại học Hutech sẽ áp dụng cải cách \"Tiếq Việt\"...</td>\n",
       "      <td>www.gioitreviet.net</td>\n",
       "      <td>1</td>\n",
       "    </tr>\n",
       "  </tbody>\n",
       "</table>\n",
       "</div>"
      ],
      "text/plain": [
       "                                                text               domain  \\\n",
       "0  Thủ tướng Abe cúi đầu xin lỗi vì hành động phi...         binhluan.biz   \n",
       "1  Thủ tướng Nhật cúi đầu xin lỗi vì tinh thần ph...         www.ipick.vn   \n",
       "2  Choáng! Cơ trưởng đeo khăn quàng quẩy banh nóc...       tintucqpvn.net   \n",
       "3  Chưa bao giờ nhạc Kpop lại dễ hát đến thế!!!\\n...       tintucqpvn.net   \n",
       "4  Đại học Hutech sẽ áp dụng cải cách \"Tiếq Việt\"...  www.gioitreviet.net   \n",
       "\n",
       "   label  \n",
       "0      1  \n",
       "1      1  \n",
       "2      1  \n",
       "3      1  \n",
       "4      1  "
      ]
     },
     "execution_count": 2,
     "metadata": {},
     "output_type": "execute_result"
    }
   ],
   "source": [
    "df = pd.read_csv('vn_news_223_tdlfr.csv')\n",
    "df.head()"
   ]
  },
  {
   "cell_type": "markdown",
   "id": "6f058e50-2a5a-4d84-8970-d49041a56de2",
   "metadata": {},
   "source": [
    "### Dữ liệu gồm có bao nhiêu dòng và bao nhiêu cột?"
   ]
  },
  {
   "cell_type": "code",
   "execution_count": 3,
   "id": "b1b88a31-fe95-465d-b39b-a643c0067d2a",
   "metadata": {},
   "outputs": [
    {
     "name": "stdout",
     "output_type": "stream",
     "text": [
      "Dữ liệu có 223 dòng và 3 cột\n"
     ]
    }
   ],
   "source": [
    "rows, columns = df.shape\n",
    "print(\"Dữ liệu có {} dòng và {} cột\".format(rows, columns))"
   ]
  },
  {
   "cell_type": "markdown",
   "id": "bb481562-2011-497b-8d16-a76b6eb24404",
   "metadata": {},
   "source": [
    "## 1.  Tiền xử lý văn bản tiếng Việt"
   ]
  },
  {
   "cell_type": "markdown",
   "id": "cbfbd37e-eabf-4bc7-8e4a-dd331ef49182",
   "metadata": {},
   "source": [
    "### Các bước tiền xử lý văn bản cơ bản gồm: \n",
    "- Lowercase\n",
    "- Loại stopwords\n",
    "- Tokenizer\n",
    "- Stemming\n",
    "- Loại noise\n",
    "- Loại dấu câu"
   ]
  },
  {
   "cell_type": "markdown",
   "id": "0f9859d2-8238-4744-a8ad-b5325d900c06",
   "metadata": {},
   "source": [
    "Nguồn tham khảo stopword: https://www.kaggle.com/mpwolke/vietnamese-stopwords-w2v"
   ]
  },
  {
   "cell_type": "markdown",
   "id": "79217cdd-a597-4d6f-b185-e61558b60370",
   "metadata": {},
   "source": [
    "#### Đọc dữ liệu stopwords từ file txt"
   ]
  },
  {
   "cell_type": "markdown",
   "id": "59d9aa44-7e95-4303-82ef-c3348a0f8058",
   "metadata": {},
   "source": [
    "Link file txt của stopword: https://www.kaggle.com/mpwolke/vietnamese-stopwords-w2v/data?select=vietnamese.txt"
   ]
  },
  {
   "cell_type": "code",
   "execution_count": 4,
   "id": "ea365870-5557-40d0-a398-df2d5525a473",
   "metadata": {},
   "outputs": [],
   "source": [
    "def get_stopword_list(filename):\n",
    "    with open(filename,'r',encoding='utf-8') as f:\n",
    "        stopwords=f.readlines()\n",
    "        stopset=set(m.strip() for m in stopwords)\n",
    "        return list(frozenset(stopset))\n",
    "stopwords=set(get_stopword_list('vietnamese.txt'))"
   ]
  },
  {
   "cell_type": "code",
   "execution_count": 5,
   "id": "3c9b7a8a-79e8-4dfd-bd42-b8e322426f08",
   "metadata": {},
   "outputs": [],
   "source": [
    "regex = re.compile('[%s]' % re.escape(string.punctuation))\n",
    "wordnet = WordNetLemmatizer()"
   ]
  },
  {
   "cell_type": "markdown",
   "id": "4b2b992e-4c8a-40ad-aa97-4c31a92ee7b8",
   "metadata": {},
   "source": [
    "#### Hàm tiền xử lý văn bản tiếng Việt"
   ]
  },
  {
   "cell_type": "code",
   "execution_count": 6,
   "id": "fee5d2f1-50c3-4679-a11d-5c47503987e4",
   "metadata": {},
   "outputs": [],
   "source": [
    "def preprocessing_basic(text):\n",
    "    text = re.sub(r'http\\S+','', text)  #Loại noise(xóa link)\n",
    "    text = re.sub(\"\\\\W\", ' ', text)     # Xóa khoảng trắng thừa\n",
    "    #Loại tokenizer và dấu câu\n",
    "    token_doc = word_tokenize(text)\n",
    "    result_token = []\n",
    "    for i in token_doc:\n",
    "        new_token = regex.sub(u'',i)\n",
    "        if not new_token == u'':\n",
    "            result_token.append(new_token)\n",
    "    #Loại stopwords\n",
    "    result_stopwords = []\n",
    "    for text in result_token:\n",
    "        tmp = text.split(' ')\n",
    "        for i in tmp:\n",
    "            if not i in stopwords :\n",
    "                result_stopwords.append(i)\n",
    "    #Xử lý stemming và lemmatizion\n",
    "    final_doc = []\n",
    "    for i in result_stopwords:\n",
    "        final_doc.append(wordnet.lemmatize(i))\n",
    "    return ' '.join(final_doc).lower()"
   ]
  },
  {
   "cell_type": "code",
   "execution_count": 7,
   "id": "08586b32-a649-4ea5-a73f-3ac119875bf5",
   "metadata": {},
   "outputs": [
    {
     "name": "stderr",
     "output_type": "stream",
     "text": [
      "100%|█████████████████████████████████████████████████████████████████████████████████████████████████████████████████████████████████| 223/223 [00:04<00:00, 55.18it/s]\n"
     ]
    },
    {
     "data": {
      "text/html": [
       "<div>\n",
       "<style scoped>\n",
       "    .dataframe tbody tr th:only-of-type {\n",
       "        vertical-align: middle;\n",
       "    }\n",
       "\n",
       "    .dataframe tbody tr th {\n",
       "        vertical-align: top;\n",
       "    }\n",
       "\n",
       "    .dataframe thead th {\n",
       "        text-align: right;\n",
       "    }\n",
       "</style>\n",
       "<table border=\"1\" class=\"dataframe\">\n",
       "  <thead>\n",
       "    <tr style=\"text-align: right;\">\n",
       "      <th></th>\n",
       "      <th>text</th>\n",
       "      <th>domain</th>\n",
       "      <th>label</th>\n",
       "    </tr>\n",
       "  </thead>\n",
       "  <tbody>\n",
       "    <tr>\n",
       "      <th>0</th>\n",
       "      <td>thủ tướng abe cúi đầu lỗi hành động phi thể th...</td>\n",
       "      <td>binhluan.biz</td>\n",
       "      <td>1</td>\n",
       "    </tr>\n",
       "    <tr>\n",
       "      <th>1</th>\n",
       "      <td>thủ tướng nhật cúi đầu lỗi tinh thần phi thể t...</td>\n",
       "      <td>www.ipick.vn</td>\n",
       "      <td>1</td>\n",
       "    </tr>\n",
       "    <tr>\n",
       "      <th>2</th>\n",
       "      <td>choáng cơ trưởng đeo khăn quàng quẩy banh sân ...</td>\n",
       "      <td>tintucqpvn.net</td>\n",
       "      <td>1</td>\n",
       "    </tr>\n",
       "    <tr>\n",
       "      <th>3</th>\n",
       "      <td>chưa bao nhạc kpop hát giáo sư nguyễn lân dũng...</td>\n",
       "      <td>tintucqpvn.net</td>\n",
       "      <td>1</td>\n",
       "    </tr>\n",
       "    <tr>\n",
       "      <th>4</th>\n",
       "      <td>đại học hutech áp dụng cải tiếq việt học 2018 ...</td>\n",
       "      <td>www.gioitreviet.net</td>\n",
       "      <td>1</td>\n",
       "    </tr>\n",
       "  </tbody>\n",
       "</table>\n",
       "</div>"
      ],
      "text/plain": [
       "                                                text               domain  \\\n",
       "0  thủ tướng abe cúi đầu lỗi hành động phi thể th...         binhluan.biz   \n",
       "1  thủ tướng nhật cúi đầu lỗi tinh thần phi thể t...         www.ipick.vn   \n",
       "2  choáng cơ trưởng đeo khăn quàng quẩy banh sân ...       tintucqpvn.net   \n",
       "3  chưa bao nhạc kpop hát giáo sư nguyễn lân dũng...       tintucqpvn.net   \n",
       "4  đại học hutech áp dụng cải tiếq việt học 2018 ...  www.gioitreviet.net   \n",
       "\n",
       "   label  \n",
       "0      1  \n",
       "1      1  \n",
       "2      1  \n",
       "3      1  \n",
       "4      1  "
      ]
     },
     "execution_count": 7,
     "metadata": {},
     "output_type": "execute_result"
    }
   ],
   "source": [
    "tqdm.pandas()\n",
    "df.text = df.text.progress_map(preprocessing_basic)\n",
    "df.head()"
   ]
  },
  {
   "cell_type": "markdown",
   "id": "3dc62a17",
   "metadata": {},
   "source": [
    "## 2. EDA (Khám phá dữ liệu)"
   ]
  },
  {
   "cell_type": "markdown",
   "id": "778c164c",
   "metadata": {},
   "source": [
    "#### Thông tin dữ liệu:"
   ]
  },
  {
   "cell_type": "code",
   "execution_count": 8,
   "id": "9cbc8106",
   "metadata": {},
   "outputs": [
    {
     "name": "stdout",
     "output_type": "stream",
     "text": [
      "<class 'pandas.core.frame.DataFrame'>\n",
      "RangeIndex: 223 entries, 0 to 222\n",
      "Data columns (total 3 columns):\n",
      " #   Column  Non-Null Count  Dtype \n",
      "---  ------  --------------  ----- \n",
      " 0   text    223 non-null    object\n",
      " 1   domain  223 non-null    object\n",
      " 2   label   223 non-null    int64 \n",
      "dtypes: int64(1), object(2)\n",
      "memory usage: 5.4+ KB\n"
     ]
    }
   ],
   "source": [
    "df.info()"
   ]
  },
  {
   "cell_type": "markdown",
   "id": "a2d17f70",
   "metadata": {},
   "source": [
    "Ta thấy dữ liệu không bị thiếu, kiểu dữ liệu không sai"
   ]
  },
  {
   "cell_type": "markdown",
   "id": "4675e879-1cad-45dc-a7a1-b03e61858a8f",
   "metadata": {},
   "source": [
    "#### Kiểm tra các dòng có bị lặp không?"
   ]
  },
  {
   "cell_type": "code",
   "execution_count": 9,
   "id": "950e6a67",
   "metadata": {},
   "outputs": [
    {
     "name": "stdout",
     "output_type": "stream",
     "text": [
      "Số dòng dữ liệu bị lặp:  0\n"
     ]
    }
   ],
   "source": [
    "print('Số dòng dữ liệu bị lặp: ',df.index.duplicated().sum())"
   ]
  },
  {
   "cell_type": "markdown",
   "id": "d18fe166-31cf-42a1-a9be-e0b962564343",
   "metadata": {},
   "source": [
    "#### Kiểm tra phân bố các class có chênh lệch không?"
   ]
  },
  {
   "cell_type": "code",
   "execution_count": 10,
   "id": "317bbb0c",
   "metadata": {},
   "outputs": [
    {
     "data": {
      "text/plain": [
       "0    123\n",
       "1    100\n",
       "Name: label, dtype: int64"
      ]
     },
     "execution_count": 10,
     "metadata": {},
     "output_type": "execute_result"
    }
   ],
   "source": [
    "df['label'].value_counts()"
   ]
  },
  {
   "cell_type": "markdown",
   "id": "b587c24f-f514-4cf7-a20c-f20c74ce7fe2",
   "metadata": {},
   "source": [
    "#### Các thông tin thống kê của văn bản "
   ]
  },
  {
   "cell_type": "code",
   "execution_count": 11,
   "id": "d2350791-636d-42b7-b2f9-096c0f5d3128",
   "metadata": {},
   "outputs": [
    {
     "name": "stdout",
     "output_type": "stream",
     "text": [
      "Chiều dài trung bình của mỗi record:  1491.812\n"
     ]
    }
   ],
   "source": [
    "record_len = df.text.str.len()\n",
    "print(\"Chiều dài trung bình của mỗi record: \",(record_len.sum()/len(record_len)).round(3))"
   ]
  },
  {
   "cell_type": "markdown",
   "id": "40fbd133-c17a-44a2-b9cc-d66fd7b9f570",
   "metadata": {},
   "source": [
    "# IV. Mô hình hóa dữ liệu"
   ]
  },
  {
   "cell_type": "code",
   "execution_count": 12,
   "id": "b91b7b72",
   "metadata": {},
   "outputs": [],
   "source": [
    "#Hàm vẽ ma trận\n",
    "def plot_matrix(classifier,X_test,Y_test):\n",
    "    class_name=df.label.value_counts()\n",
    "    np.set_printoptions(precision=2)\n",
    "    titles_options=[(\"confusion matrix,without normalization\",None),(\"normalized confusion matrix\",None)]\n",
    "    for title,normalize in titles_options:\n",
    "        disp=plot_confusion_matrix(classifier,X_test,Y_test,display_labels=class_name,cmap=plt.cm.Blues,normalize=normalize)\n",
    "        disp.ax_.set_title(title)\n",
    "        print(title)\n",
    "        print(disp.confusion_matrix)\n",
    "\n",
    "        \n",
    "def upload_classifier(classifier):\n",
    "    X_train,X_test,Y_train,Y_test=train_test_split(df.text,df.label,test_size=0.25,random_state=2020)\n",
    "    pipe=Pipeline([('vect',CountVectorizer()),('tfidf',TfidfTransformer()),('model',classifier)])\n",
    "    model=pipe.fit(X_train,Y_train)\n",
    "    prediction=model.predict(X_test)\n",
    "    prob=model.predict_proba(X_test)\n",
    "    plot_matrix(classifier=model,X_test=X_test,Y_test=Y_test)\n",
    "    return model,prob,Y_test\n",
    "\n",
    "def generate_roc_curve(model,Y_test,prob,title):\n",
    "    pred=prob[:,1]\n",
    "    fpr,tpr,threshold=roc_curve(Y_test,pred)\n",
    "    roc_auc=auc(fpr,tpr)\n",
    "    plt.title('{}'.format(title))\n",
    "    plt.plot(fpr,tpr,'b',label='auc=%0.2f' % roc_auc)\n",
    "    plt.legend(loc='lower right')\n",
    "    plt.plot([0,1],[0,1],'r--')\n",
    "    plt.xlim([0,1])\n",
    "    plt.ylim([0,1])\n",
    "    plt.ylabel('True Positive Rate')\n",
    "    plt.xlabel('False Positive Rate')\n",
    "    plt.show()"
   ]
  },
  {
   "cell_type": "markdown",
   "id": "7dd5aa8d-40ca-4f13-84fc-e7d7f62ffd66",
   "metadata": {},
   "source": [
    "## Logistic Regression"
   ]
  },
  {
   "cell_type": "code",
   "execution_count": 13,
   "id": "38798a9f-c03b-46ea-bdbb-10e3f2173c7b",
   "metadata": {},
   "outputs": [
    {
     "name": "stdout",
     "output_type": "stream",
     "text": [
      "confusion matrix,without normalization\n",
      "[[26  1]\n",
      " [10 19]]\n",
      "normalized confusion matrix\n",
      "[[26  1]\n",
      " [10 19]]\n"
     ]
    },
    {
     "data": {
      "image/png": "[encoded data removed]",
      "text/plain": [
       "<Figure size 432x288 with 2 Axes>"
      ]
     },
     "metadata": {
      "needs_background": "light"
     },
     "output_type": "display_data"
    },
    {
     "data": {
      "image/png": "[encoded data removed]",
      "text/plain": [
       "<Figure size 432x288 with 2 Axes>"
      ]
     },
     "metadata": {
      "needs_background": "light"
     },
     "output_type": "display_data"
    }
   ],
   "source": [
    "LR_model,prob,Y_test=upload_classifier(classifier=LogisticRegression())"
   ]
  },
  {
   "cell_type": "code",
   "execution_count": 14,
   "id": "607a1de5-57c1-4aa9-aaf3-ccdd6d024d25",
   "metadata": {},
   "outputs": [
    {
     "data": {
      "image/png": "[encoded data removed]",
      "text/plain": [
       "<Figure size 432x288 with 1 Axes>"
      ]
     },
     "metadata": {
      "needs_background": "light"
     },
     "output_type": "display_data"
    }
   ],
   "source": [
    "generate_roc_curve(model=LR_model,Y_test=Y_test,prob=prob,title='Logistic Regression')"
   ]
  },
  {
   "cell_type": "markdown",
   "id": "6b056f62-e66e-4159-a181-64279bb82a1c",
   "metadata": {},
   "source": [
    "## Gradient Boost Classifier"
   ]
  },
  {
   "cell_type": "code",
   "execution_count": 15,
   "id": "4c01b908-542b-4a0f-a07f-a26b944cd4c9",
   "metadata": {},
   "outputs": [
    {
     "name": "stdout",
     "output_type": "stream",
     "text": [
      "confusion matrix,without normalization\n",
      "[[22  5]\n",
      " [12 17]]\n",
      "normalized confusion matrix\n",
      "[[22  5]\n",
      " [12 17]]\n"
     ]
    },
    {
     "data": {
      "image/png": "[encoded data removed]",
      "text/plain": [
       "<Figure size 432x288 with 2 Axes>"
      ]
     },
     "metadata": {
      "needs_background": "light"
     },
     "output_type": "display_data"
    },
    {
     "data": {
      "image/png": "[encoded data removed]",
      "text/plain": [
       "<Figure size 432x288 with 2 Axes>"
      ]
     },
     "metadata": {
      "needs_background": "light"
     },
     "output_type": "display_data"
    }
   ],
   "source": [
    "GBC_model,prob,Y_test=upload_classifier(classifier=GradientBoostingClassifier())"
   ]
  },
  {
   "cell_type": "code",
   "execution_count": 16,
   "id": "53c2a02e-13ae-45d2-b806-d46bfef91b76",
   "metadata": {},
   "outputs": [
    {
     "data": {
      "image/png": "[encoded data removed]",
      "text/plain": [
       "<Figure size 432x288 with 1 Axes>"
      ]
     },
     "metadata": {
      "needs_background": "light"
     },
     "output_type": "display_data"
    }
   ],
   "source": [
    "generate_roc_curve(model=GBC_model,Y_test=Y_test,prob=prob,title='Gradient Boosting Classifier')"
   ]
  },
  {
   "cell_type": "markdown",
   "id": "38a152a6-c52f-4c5a-a191-5c1ac8067b14",
   "metadata": {},
   "source": [
    "## Multinomial Naive Bayes"
   ]
  },
  {
   "cell_type": "code",
   "execution_count": 17,
   "id": "27b692f1-8489-429b-83f5-e78660c2de79",
   "metadata": {},
   "outputs": [
    {
     "name": "stdout",
     "output_type": "stream",
     "text": [
      "confusion matrix,without normalization\n",
      "[[26  1]\n",
      " [10 19]]\n",
      "normalized confusion matrix\n",
      "[[26  1]\n",
      " [10 19]]\n"
     ]
    },
    {
     "data": {
      "image/png": "[encoded data removed]",
      "text/plain": [
       "<Figure size 432x288 with 2 Axes>"
      ]
     },
     "metadata": {
      "needs_background": "light"
     },
     "output_type": "display_data"
    },
    {
     "data": {
      "image/png": "[encoded data removed]",
      "text/plain": [
       "<Figure size 432x288 with 2 Axes>"
      ]
     },
     "metadata": {
      "needs_background": "light"
     },
     "output_type": "display_data"
    }
   ],
   "source": [
    "MNB_model,prob,Y_test=upload_classifier(classifier=MultinomialNB())"
   ]
  },
  {
   "cell_type": "code",
   "execution_count": 18,
   "id": "2ea84d14-503a-4617-b819-26ed3e834f09",
   "metadata": {},
   "outputs": [
    {
     "data": {
      "image/png": "[encoded data removed]",
      "text/plain": [
       "<Figure size 432x288 with 1 Axes>"
      ]
     },
     "metadata": {
      "needs_background": "light"
     },
     "output_type": "display_data"
    }
   ],
   "source": [
    "generate_roc_curve(model=MNB_model,Y_test=Y_test,prob=prob,title='Multinomial Naive Bayes')"
   ]
  },
  {
   "cell_type": "markdown",
   "id": "9a0b7c03-58fc-4995-ac58-b966286d9a41",
   "metadata": {},
   "source": [
    "## Bernoulli Naive Bayes"
   ]
  },
  {
   "cell_type": "code",
   "execution_count": 19,
   "id": "e4268808-b133-48f8-a2ca-1df8e62d2575",
   "metadata": {},
   "outputs": [
    {
     "name": "stdout",
     "output_type": "stream",
     "text": [
      "confusion matrix,without normalization\n",
      "[[24  3]\n",
      " [ 3 26]]\n",
      "normalized confusion matrix\n",
      "[[24  3]\n",
      " [ 3 26]]\n"
     ]
    },
    {
     "data": {
      "image/png": "[encoded data removed]",
      "text/plain": [
       "<Figure size 432x288 with 2 Axes>"
      ]
     },
     "metadata": {
      "needs_background": "light"
     },
     "output_type": "display_data"
    },
    {
     "data": {
      "image/png": "[encoded data removed]",
      "text/plain": [
       "<Figure size 432x288 with 2 Axes>"
      ]
     },
     "metadata": {
      "needs_background": "light"
     },
     "output_type": "display_data"
    }
   ],
   "source": [
    "BNB_model,prob,Y_test=upload_classifier(classifier=BernoulliNB())"
   ]
  },
  {
   "cell_type": "code",
   "execution_count": 20,
   "id": "9531e537-d031-4f86-ad20-9ed9436e2d5e",
   "metadata": {},
   "outputs": [
    {
     "data": {
      "image/png": "[encoded data removed]",
      "text/plain": [
       "<Figure size 432x288 with 1 Axes>"
      ]
     },
     "metadata": {
      "needs_background": "light"
     },
     "output_type": "display_data"
    }
   ],
   "source": [
    "generate_roc_curve(model=BNB_model,Y_test=Y_test,prob=prob,title='Bernoulli Naive Bayes')"
   ]
  },
  {
   "cell_type": "markdown",
   "id": "ad6a01be-2298-490b-a784-9a50106f2dda",
   "metadata": {},
   "source": [
    "## Decision Trees"
   ]
  },
  {
   "cell_type": "code",
   "execution_count": 21,
   "id": "f699e314-fc78-4431-878a-a2db5d607490",
   "metadata": {},
   "outputs": [
    {
     "name": "stdout",
     "output_type": "stream",
     "text": [
      "confusion matrix,without normalization\n",
      "[[20  7]\n",
      " [12 17]]\n",
      "normalized confusion matrix\n",
      "[[20  7]\n",
      " [12 17]]\n"
     ]
    },
    {
     "data": {
      "image/png": "[encoded data removed]",
      "text/plain": [
       "<Figure size 432x288 with 2 Axes>"
      ]
     },
     "metadata": {
      "needs_background": "light"
     },
     "output_type": "display_data"
    },
    {
     "data": {
      "image/png": "[encoded data removed]",
      "text/plain": [
       "<Figure size 432x288 with 2 Axes>"
      ]
     },
     "metadata": {
      "needs_background": "light"
     },
     "output_type": "display_data"
    }
   ],
   "source": [
    "DTs_model,prob,Y_test=upload_classifier(classifier=DecisionTreeClassifier())"
   ]
  },
  {
   "cell_type": "code",
   "execution_count": 22,
   "id": "068bf8de-22ea-4521-b605-d79692ff4fd9",
   "metadata": {},
   "outputs": [
    {
     "data": {
      "image/png": "[encoded data removed]",
      "text/plain": [
       "<Figure size 432x288 with 1 Axes>"
      ]
     },
     "metadata": {
      "needs_background": "light"
     },
     "output_type": "display_data"
    }
   ],
   "source": [
    "generate_roc_curve(model=DTs_model,Y_test=Y_test,prob=prob,title='Decision Trees')"
   ]
  },
  {
   "cell_type": "markdown",
   "id": "6b4a6a6d-3c8d-4996-ad54-919932cc4433",
   "metadata": {},
   "source": [
    "## Random Forest Classifier"
   ]
  },
  {
   "cell_type": "code",
   "execution_count": 23,
   "id": "abd179e5-f36d-439c-9961-8ebf483e0d4b",
   "metadata": {},
   "outputs": [
    {
     "name": "stdout",
     "output_type": "stream",
     "text": [
      "confusion matrix,without normalization\n",
      "[[24  3]\n",
      " [ 6 23]]\n",
      "normalized confusion matrix\n",
      "[[24  3]\n",
      " [ 6 23]]\n"
     ]
    },
    {
     "data": {
      "image/png": "[encoded data removed]",
      "text/plain": [
       "<Figure size 432x288 with 2 Axes>"
      ]
     },
     "metadata": {
      "needs_background": "light"
     },
     "output_type": "display_data"
    },
    {
     "data": {
      "image/png": "[encoded data removed]",
      "text/plain": [
       "<Figure size 432x288 with 2 Axes>"
      ]
     },
     "metadata": {
      "needs_background": "light"
     },
     "output_type": "display_data"
    }
   ],
   "source": [
    "RFC_model,prob,Y_test=upload_classifier(classifier=RandomForestClassifier())"
   ]
  },
  {
   "cell_type": "code",
   "execution_count": 24,
   "id": "d69b70c8-87b5-423c-a57d-7f6d2b035742",
   "metadata": {},
   "outputs": [
    {
     "data": {
      "image/png": "[encoded data removed]",
      "text/plain": [
       "<Figure size 432x288 with 1 Axes>"
      ]
     },
     "metadata": {
      "needs_background": "light"
     },
     "output_type": "display_data"
    }
   ],
   "source": [
    "generate_roc_curve(model=RFC_model,Y_test=Y_test,prob=prob,title='Random Forest Classifier')"
   ]
  },
  {
   "cell_type": "code",
   "execution_count": 25,
   "id": "552445bb-3fe1-429e-91f2-56381c9213a7",
   "metadata": {},
   "outputs": [],
   "source": [
    "model_file_list = [r\"models/LR_model.pkl\", r\"models/GBC_model.pkl\", r\"models/MNB_model.pkl\",\n",
    "                   r\"models/BNB_model.pkl\", r\"models/DTs_model.pkl\", r\"models/RFC_model.pkl\"]\n",
    "\n",
    "model_list = [LR_model, GBC_model, MNB_model, BNB_model, DTs_model, RFC_model]\n",
    "\n",
    "for model, filename in zip(model_list, model_file_list):\n",
    "    pickle.dump(model, open(filename, 'wb'))"
   ]
  },
  {
   "cell_type": "code",
   "execution_count": 26,
   "id": "4d75e352-b6df-40b6-955f-cd1bc5533ce4",
   "metadata": {},
   "outputs": [],
   "source": [
    "def pre_tokenizer(text, maxword):\n",
    "    tokenizer = Tokenizer(num_words = maxword)\n",
    "    tokenizer.fit_on_texts(text)\n",
    "    with open('tokenizer.pickle','wb') as f:\n",
    "        pickle.dump(tokenizer, f, protocol = pickle.HIGHEST_PROTOCOL)\n",
    "pre_tokenizer(df.text, 200)"
   ]
  },
  {
   "cell_type": "markdown",
   "id": "19be3cf7-178b-4847-b86d-bb3b37e9cc7b",
   "metadata": {},
   "source": [
    "## Long-short Term Memory"
   ]
  },
  {
   "cell_type": "code",
   "execution_count": 27,
   "id": "029b54cc-8533-42ff-9dad-658531d9a04e",
   "metadata": {},
   "outputs": [],
   "source": [
    "def prepare_testdata(text, tokenizer, Y):\n",
    "    sequences = tokenizer.texts_to_sequences(text)\n",
    "    word_index = tokenizer.word_index\n",
    "    print(\"Vocabulary size: \", len(word_index))\n",
    "    data = pad_sequences(sequences, padding = 'post', maxlen = 200)\n",
    "    print(\"Shape of data tensorflow: \", data.shape)\n",
    "    indices = np.arange(data.shape[0])\n",
    "    np.random.shuffle(indices)\n",
    "    data = data[indices]\n",
    "    labels = Y[indices]\n",
    "    num_validation_samples = int(0.2*data.shape[0])\n",
    "    x_train = data[: -num_validation_samples]\n",
    "    y_train = labels[: -num_validation_samples]\n",
    "    x_val = data[-num_validation_samples: ]\n",
    "    y_val = labels[-num_validation_samples: ]\n",
    "    print(\"Number of training: \", y_train.sum(axis = 0))\n",
    "    print(\"Number of validation: \", y_val.sum(axis = 0))\n",
    "    print(\"Number of tokenized sentences:\\n\", data[0])\n",
    "    print(\"Number of one-hot label:\\n \", labels[0])\n",
    "    return x_train, y_train, x_val, y_val\n",
    "    \n",
    "def prepare_feature(df, label, text):\n",
    "    y = df[label].values\n",
    "    comment_train = df[text]\n",
    "    comment_train = list(comment_train)\n",
    "    return comment_train, y\n",
    "\n",
    "def get_dummies(df, col_label):\n",
    "    df_y = pd.get_dummies(df[col_label])\n",
    "    df_new = df.join(df_y)\n",
    "    df_new = df_new.drop(col_label, axis = 1)\n",
    "    return df_new"
   ]
  },
  {
   "cell_type": "code",
   "execution_count": 28,
   "id": "c7edbbc7-d709-4221-8045-68d1c4ebe02c",
   "metadata": {},
   "outputs": [
    {
     "data": {
      "text/html": [
       "<div>\n",
       "<style scoped>\n",
       "    .dataframe tbody tr th:only-of-type {\n",
       "        vertical-align: middle;\n",
       "    }\n",
       "\n",
       "    .dataframe tbody tr th {\n",
       "        vertical-align: top;\n",
       "    }\n",
       "\n",
       "    .dataframe thead th {\n",
       "        text-align: right;\n",
       "    }\n",
       "</style>\n",
       "<table border=\"1\" class=\"dataframe\">\n",
       "  <thead>\n",
       "    <tr style=\"text-align: right;\">\n",
       "      <th></th>\n",
       "      <th>0</th>\n",
       "      <th>1</th>\n",
       "    </tr>\n",
       "  </thead>\n",
       "  <tbody>\n",
       "    <tr>\n",
       "      <th>0</th>\n",
       "      <td>0</td>\n",
       "      <td>1</td>\n",
       "    </tr>\n",
       "    <tr>\n",
       "      <th>1</th>\n",
       "      <td>0</td>\n",
       "      <td>1</td>\n",
       "    </tr>\n",
       "    <tr>\n",
       "      <th>2</th>\n",
       "      <td>0</td>\n",
       "      <td>1</td>\n",
       "    </tr>\n",
       "    <tr>\n",
       "      <th>3</th>\n",
       "      <td>0</td>\n",
       "      <td>1</td>\n",
       "    </tr>\n",
       "    <tr>\n",
       "      <th>4</th>\n",
       "      <td>0</td>\n",
       "      <td>1</td>\n",
       "    </tr>\n",
       "  </tbody>\n",
       "</table>\n",
       "</div>"
      ],
      "text/plain": [
       "   0  1\n",
       "0  0  1\n",
       "1  0  1\n",
       "2  0  1\n",
       "3  0  1\n",
       "4  0  1"
      ]
     },
     "execution_count": 28,
     "metadata": {},
     "output_type": "execute_result"
    }
   ],
   "source": [
    "df_label = pd.get_dummies(df.label)\n",
    "df_label = df_label.reset_index()\n",
    "df_label = df_label.drop('index', axis = 1)\n",
    "df_label.head()"
   ]
  },
  {
   "cell_type": "code",
   "execution_count": 29,
   "id": "3cdc361d-129a-42a3-8ba0-c68f21594c70",
   "metadata": {},
   "outputs": [
    {
     "data": {
      "text/html": [
       "<div>\n",
       "<style scoped>\n",
       "    .dataframe tbody tr th:only-of-type {\n",
       "        vertical-align: middle;\n",
       "    }\n",
       "\n",
       "    .dataframe tbody tr th {\n",
       "        vertical-align: top;\n",
       "    }\n",
       "\n",
       "    .dataframe thead th {\n",
       "        text-align: right;\n",
       "    }\n",
       "</style>\n",
       "<table border=\"1\" class=\"dataframe\">\n",
       "  <thead>\n",
       "    <tr style=\"text-align: right;\">\n",
       "      <th></th>\n",
       "      <th>text</th>\n",
       "      <th>domain</th>\n",
       "      <th>0</th>\n",
       "      <th>1</th>\n",
       "    </tr>\n",
       "  </thead>\n",
       "  <tbody>\n",
       "    <tr>\n",
       "      <th>0</th>\n",
       "      <td>thủ tướng abe cúi đầu lỗi hành động phi thể th...</td>\n",
       "      <td>binhluan.biz</td>\n",
       "      <td>0</td>\n",
       "      <td>1</td>\n",
       "    </tr>\n",
       "    <tr>\n",
       "      <th>1</th>\n",
       "      <td>thủ tướng nhật cúi đầu lỗi tinh thần phi thể t...</td>\n",
       "      <td>www.ipick.vn</td>\n",
       "      <td>0</td>\n",
       "      <td>1</td>\n",
       "    </tr>\n",
       "    <tr>\n",
       "      <th>2</th>\n",
       "      <td>choáng cơ trưởng đeo khăn quàng quẩy banh sân ...</td>\n",
       "      <td>tintucqpvn.net</td>\n",
       "      <td>0</td>\n",
       "      <td>1</td>\n",
       "    </tr>\n",
       "    <tr>\n",
       "      <th>3</th>\n",
       "      <td>chưa bao nhạc kpop hát giáo sư nguyễn lân dũng...</td>\n",
       "      <td>tintucqpvn.net</td>\n",
       "      <td>0</td>\n",
       "      <td>1</td>\n",
       "    </tr>\n",
       "    <tr>\n",
       "      <th>4</th>\n",
       "      <td>đại học hutech áp dụng cải tiếq việt học 2018 ...</td>\n",
       "      <td>www.gioitreviet.net</td>\n",
       "      <td>0</td>\n",
       "      <td>1</td>\n",
       "    </tr>\n",
       "  </tbody>\n",
       "</table>\n",
       "</div>"
      ],
      "text/plain": [
       "                                                text               domain  0  \\\n",
       "0  thủ tướng abe cúi đầu lỗi hành động phi thể th...         binhluan.biz  0   \n",
       "1  thủ tướng nhật cúi đầu lỗi tinh thần phi thể t...         www.ipick.vn  0   \n",
       "2  choáng cơ trưởng đeo khăn quàng quẩy banh sân ...       tintucqpvn.net  0   \n",
       "3  chưa bao nhạc kpop hát giáo sư nguyễn lân dũng...       tintucqpvn.net  0   \n",
       "4  đại học hutech áp dụng cải tiếq việt học 2018 ...  www.gioitreviet.net  0   \n",
       "\n",
       "   1  \n",
       "0  1  \n",
       "1  1  \n",
       "2  1  \n",
       "3  1  \n",
       "4  1  "
      ]
     },
     "execution_count": 29,
     "metadata": {},
     "output_type": "execute_result"
    }
   ],
   "source": [
    "df_new = df.join(df_label)\n",
    "df_new = get_dummies(df = df, col_label = 'label')\n",
    "df_new.head()"
   ]
  },
  {
   "cell_type": "code",
   "execution_count": 30,
   "id": "d871b1fc-963b-4d34-bc77-4374f41f8561",
   "metadata": {},
   "outputs": [
    {
     "name": "stdout",
     "output_type": "stream",
     "text": [
      "thủ tướng abe cúi đầu lỗi hành động phi thể thao tuyển nhật theo sankei sports thủ tướng nhật bản shinzo abe công khai gửi lỗi nhật hoàng toàn dân tinh thần thi đấu phi thể thao đội tuyển nhật world cup 2018 tối lượt trận vòng bảng world cup 2018 nhật bản phụ senegal đội thua colombia nhưng nhật bản vòng fair play thẻ phạt thủ tướng nhật bản shinzo abe cúi đầu lỗi với tinh thần võ sĩ đạo samurai đội tuyển nhật bản hành động tinh thần thượng võ thi đấu world cup trích bất bình toàn dân hình ảnh kiên cường dân nhật bản đấu trường quốc tế là đứng đầu thành trách nhiệm gửi lỗi sâu sắc nhân dân abe cúi đầu trách nhiệm người nhật bản nổi tiếng tinh thần trách nhiệm chất võ sĩ đạo đó lý đội tuyển áo xanh mệnh danh samurai xanh tuy nhiên nhật bản trích dội hâm mộ bóng đá lối bóng tiêu cực cố tình câu vé đi tiếp cụ thể phút trận vòng bảng ba lan trận colombia thắng senegal tỷ 1 0 tỉ tương cầu thủ nhật bản hề gỡ hòa các cầu thủ nhật vui vẻ trận thua ba lan 0 1 vé vòng 16 đội tại world cup 2018 fifa fair play quy định 1 thẻ vàng 1 2 thẻ vàng thành thẻ đỏ 3 thẻ đỏ trực tiếp 4 nhật 4 thẻ vàng senegal 6 chính sợ lãnh thẻ vàng nhật giết chết trận đấu phút họ liên tục chuyền bóng sân thậm chí 5 phút cầu thủ nhật bản bóng sân đối phương bất chấp la ó huýt sáo cđv sân điều thầy trò hlv akira nishino dư luận trích với kết nhật bản colombia hai đội đi tiếp bảng h ở vòng trực tiếp nhật bản đối đầu đối thủ cực đt bỉ trong đội đi tiếp nhật colombia đt anh [0 1]\n"
     ]
    }
   ],
   "source": [
    "labels = [0,1]\n",
    "x_train, y_train = prepare_feature(df = df_new, label = labels, text = 'text')\n",
    "print(x_train[0], y_train[0])"
   ]
  },
  {
   "cell_type": "code",
   "execution_count": 31,
   "id": "240c28d6-6c49-40df-8dd2-76fd9bf89c41",
   "metadata": {},
   "outputs": [],
   "source": [
    "with open('tokenizer.pickle','rb') as f:\n",
    "    tokenizer = pickle.load(f)"
   ]
  },
  {
   "cell_type": "code",
   "execution_count": 32,
   "id": "d312b275-6da0-4817-881a-738ab4371f8c",
   "metadata": {},
   "outputs": [
    {
     "name": "stdout",
     "output_type": "stream",
     "text": [
      "Vocabulary size:  4466\n",
      "Shape of data tensorflow:  (223, 200)\n",
      "Number of training:  [96 83]\n",
      "Number of validation:  [27 17]\n",
      "Number of tokenized sentences:\n",
      " [ 70  88  88 175  21 177 168   2  24  41  21  19  52 126 162  46  25  88\n",
      " 175 122 172  65 165 192  41  65  23   2  24   9  36  39  17 196  41  38\n",
      "   7  50   5  38 121  70   9   1   7  88 175   9  50   5 148  34 150 117\n",
      " 168  59  50   5 161  21  34 114 161  21  65  35   5   5  11  25  88 175\n",
      "  73 161  21  32   1 125  21 190 153  89  67  34 114 105   2  24  41 116\n",
      "  66  34  65  23  59  32  18 197   5 189   2  24 162  46  19  34  65 125\n",
      "   0   0   0   0   0   0   0   0   0   0   0   0   0   0   0   0   0   0\n",
      "   0   0   0   0   0   0   0   0   0   0   0   0   0   0   0   0   0   0\n",
      "   0   0   0   0   0   0   0   0   0   0   0   0   0   0   0   0   0   0\n",
      "   0   0   0   0   0   0   0   0   0   0   0   0   0   0   0   0   0   0\n",
      "   0   0   0   0   0   0   0   0   0   0   0   0   0   0   0   0   0   0\n",
      "   0   0]\n",
      "Number of one-hot label:\n",
      "  [1 0]\n"
     ]
    }
   ],
   "source": [
    "x_train, y_train, x_test, y_test = prepare_testdata(text = x_train, tokenizer = tokenizer, Y = y_train)"
   ]
  },
  {
   "cell_type": "code",
   "execution_count": 33,
   "id": "2ea53a85-8ddc-487d-a3d1-e49b0d701985",
   "metadata": {},
   "outputs": [],
   "source": [
    "embedding_index = {}\n",
    "word_index = tokenizer.word_index\n",
    "embedding_matrix = np.random.random((len(word_index)+1, 100))\n",
    "for word, i in word_index.items():\n",
    "    embedding_vector = embedding_index.get(word)\n",
    "    if embedding_vector is not None:\n",
    "        embedding_matrix[i] = embedding_vector"
   ]
  },
  {
   "cell_type": "code",
   "execution_count": 34,
   "id": "ad1db9eb-6fdb-477c-9f7b-f1b587ea0007",
   "metadata": {},
   "outputs": [
    {
     "name": "stderr",
     "output_type": "stream",
     "text": [
      "2022-01-08 01:35:24.543434: W tensorflow/stream_executor/platform/default/dso_loader.cc:64] Could not load dynamic library 'libcuda.so.1'; dlerror: libcuda.so.1: cannot open shared object file: No such file or directory\n",
      "2022-01-08 01:35:24.543545: W tensorflow/stream_executor/cuda/cuda_driver.cc:269] failed call to cuInit: UNKNOWN ERROR (303)\n",
      "2022-01-08 01:35:24.543621: I tensorflow/stream_executor/cuda/cuda_diagnostics.cc:156] kernel driver does not appear to be running on this host (DESKTOP-A03CCO9): /proc/driver/nvidia/version does not exist\n",
      "2022-01-08 01:35:24.551345: I tensorflow/core/platform/cpu_feature_guard.cc:151] This TensorFlow binary is optimized with oneAPI Deep Neural Network Library (oneDNN) to use the following CPU instructions in performance-critical operations:  AVX2 FMA\n",
      "To enable them in other operations, rebuild TensorFlow with the appropriate compiler flags.\n"
     ]
    }
   ],
   "source": [
    "sequence_input = Input(shape = (200,), dtype = 'int32')\n",
    "embedding_layer = Embedding(len(word_index)+1, 100, weights = [embedding_matrix], input_length = 200, trainable = False, name = 'embeddings')\n",
    "embedded_sequences = embedding_layer(sequence_input);"
   ]
  },
  {
   "cell_type": "code",
   "execution_count": 35,
   "id": "659b5e01-b87c-405d-b442-51f6b6ac8654",
   "metadata": {},
   "outputs": [],
   "source": [
    "x = LSTM(60, return_sequences = True, name = 'LSTM_layer')(embedded_sequences)\n",
    "x = GlobalMaxPool1D()(x)\n",
    "x = Dropout(0.1)(x)\n",
    "x = Dense(50, activation = 'relu')(x)\n",
    "x = Dropout(0.1)(x)\n",
    "pred = Dense(2, activation = 'sigmoid')(x)"
   ]
  },
  {
   "cell_type": "code",
   "execution_count": 36,
   "id": "19e617e7-f52f-41b5-bb39-ba53e51d84f6",
   "metadata": {},
   "outputs": [
    {
     "name": "stdout",
     "output_type": "stream",
     "text": [
      "Model: \"model\"\n",
      "_________________________________________________________________\n",
      " Layer (type)                Output Shape              Param #   \n",
      "=================================================================\n",
      " input_1 (InputLayer)        [(None, 200)]             0         \n",
      "                                                                 \n",
      " embeddings (Embedding)      (None, 200, 100)          446700    \n",
      "                                                                 \n",
      " LSTM_layer (LSTM)           (None, 200, 60)           38640     \n",
      "                                                                 \n",
      " global_max_pooling1d (Globa  (None, 60)               0         \n",
      " lMaxPooling1D)                                                  \n",
      "                                                                 \n",
      " dropout (Dropout)           (None, 60)                0         \n",
      "                                                                 \n",
      " dense (Dense)               (None, 50)                3050      \n",
      "                                                                 \n",
      " dropout_1 (Dropout)         (None, 50)                0         \n",
      "                                                                 \n",
      " dense_1 (Dense)             (None, 2)                 102       \n",
      "                                                                 \n",
      "=================================================================\n",
      "Total params: 488,492\n",
      "Trainable params: 41,792\n",
      "Non-trainable params: 446,700\n",
      "_________________________________________________________________\n"
     ]
    }
   ],
   "source": [
    "model = Model(sequence_input, pred)\n",
    "model.compile(loss = 'binary_crossentropy', optimizer = 'adam', metrics = ['accuracy'])\n",
    "model.summary()"
   ]
  },
  {
   "cell_type": "code",
   "execution_count": 37,
   "id": "ce4440c7-7aa2-4d0d-8b74-66b4056a3566",
   "metadata": {},
   "outputs": [
    {
     "name": "stdout",
     "output_type": "stream",
     "text": [
      "Epoch 1/20\n",
      "6/6 [==============================] - 4s 311ms/step - loss: 0.6890 - accuracy: 0.5754 - val_loss: 0.6765 - val_accuracy: 0.6136\n",
      "Epoch 2/20\n",
      "6/6 [==============================] - 1s 115ms/step - loss: 0.6911 - accuracy: 0.5531 - val_loss: 0.6788 - val_accuracy: 0.6136\n",
      "Epoch 3/20\n",
      "6/6 [==============================] - 1s 118ms/step - loss: 0.6875 - accuracy: 0.5531 - val_loss: 0.6751 - val_accuracy: 0.6136\n",
      "Epoch 4/20\n",
      "6/6 [==============================] - 1s 113ms/step - loss: 0.6687 - accuracy: 0.5531 - val_loss: 0.6936 - val_accuracy: 0.5455\n",
      "Epoch 5/20\n",
      "6/6 [==============================] - 1s 132ms/step - loss: 0.6692 - accuracy: 0.6313 - val_loss: 0.6787 - val_accuracy: 0.6136\n",
      "Epoch 6/20\n",
      "6/6 [==============================] - 1s 143ms/step - loss: 0.6633 - accuracy: 0.6313 - val_loss: 0.6783 - val_accuracy: 0.6364\n",
      "Epoch 7/20\n",
      "6/6 [==============================] - 1s 139ms/step - loss: 0.6636 - accuracy: 0.6369 - val_loss: 0.6774 - val_accuracy: 0.7045\n",
      "Epoch 8/20\n",
      "6/6 [==============================] - 1s 123ms/step - loss: 0.6516 - accuracy: 0.6983 - val_loss: 0.6842 - val_accuracy: 0.6364\n",
      "Epoch 9/20\n",
      "6/6 [==============================] - 1s 129ms/step - loss: 0.6603 - accuracy: 0.5866 - val_loss: 0.6838 - val_accuracy: 0.6364\n",
      "Epoch 10/20\n",
      "6/6 [==============================] - 1s 130ms/step - loss: 0.6460 - accuracy: 0.6536 - val_loss: 0.6829 - val_accuracy: 0.5909\n",
      "Epoch 11/20\n",
      "6/6 [==============================] - 1s 135ms/step - loss: 0.6270 - accuracy: 0.7095 - val_loss: 0.6761 - val_accuracy: 0.7273\n",
      "Epoch 12/20\n",
      "6/6 [==============================] - 1s 119ms/step - loss: 0.6231 - accuracy: 0.7207 - val_loss: 0.6623 - val_accuracy: 0.6591\n",
      "Epoch 13/20\n",
      "6/6 [==============================] - 1s 112ms/step - loss: 0.6044 - accuracy: 0.7263 - val_loss: 0.6610 - val_accuracy: 0.6364\n",
      "Epoch 14/20\n",
      "6/6 [==============================] - 1s 130ms/step - loss: 0.5732 - accuracy: 0.7598 - val_loss: 0.6319 - val_accuracy: 0.7273\n",
      "Epoch 15/20\n",
      "6/6 [==============================] - 1s 150ms/step - loss: 0.5316 - accuracy: 0.7709 - val_loss: 0.6864 - val_accuracy: 0.6591\n",
      "Epoch 16/20\n",
      "6/6 [==============================] - 1s 135ms/step - loss: 0.5858 - accuracy: 0.6983 - val_loss: 0.6359 - val_accuracy: 0.6591\n",
      "Epoch 17/20\n",
      "6/6 [==============================] - 1s 132ms/step - loss: 0.5096 - accuracy: 0.7989 - val_loss: 0.7194 - val_accuracy: 0.5909\n",
      "Epoch 18/20\n",
      "6/6 [==============================] - 1s 121ms/step - loss: 0.5260 - accuracy: 0.7486 - val_loss: 0.6407 - val_accuracy: 0.5909\n",
      "Epoch 19/20\n",
      "6/6 [==============================] - 1s 127ms/step - loss: 0.4538 - accuracy: 0.8045 - val_loss: 0.7277 - val_accuracy: 0.6364\n",
      "Epoch 20/20\n",
      "6/6 [==============================] - 1s 149ms/step - loss: 0.4727 - accuracy: 0.7877 - val_loss: 0.5741 - val_accuracy: 0.6818\n"
     ]
    }
   ],
   "source": [
    "history = model.fit(x_train, y_train, epochs = 20, batch_size = 32, validation_data = (x_test, y_test))"
   ]
  },
  {
   "cell_type": "code",
   "execution_count": 38,
   "id": "7b7d53d6-8d40-435b-8c47-0d75cdb8d584",
   "metadata": {},
   "outputs": [],
   "source": [
    "model.save(r\"models/LSTM_model.h5\")"
   ]
  },
  {
   "cell_type": "code",
   "execution_count": 39,
   "id": "0a3fc462-37c0-49a0-918a-0ce7826361a0",
   "metadata": {},
   "outputs": [
    {
     "data": {
      "image/png": "[encoded data removed]",
      "text/plain": [
       "<Figure size 432x288 with 1 Axes>"
      ]
     },
     "metadata": {
      "needs_background": "light"
     },
     "output_type": "display_data"
    }
   ],
   "source": [
    "loss = history.history['loss']\n",
    "val_loss = history.history['val_loss']\n",
    "epochs = range(1, len(loss)+1)\n",
    "plt.plot(epochs, loss, label = 'training_loss')\n",
    "plt.plot(epochs, val_loss, label = 'validation_loss')\n",
    "plt.title('Training and validation loss')\n",
    "plt.legend()\n",
    "plt.show()"
   ]
  }
 ],
 "metadata": {
  "kernelspec": {
   "display_name": "Python 3 (ipykernel)",
   "language": "python",
   "name": "python3"
  },
  "language_info": {
   "codemirror_mode": {
    "name": "ipython",
    "version": 3
   },
   "file_extension": ".py",
   "mimetype": "text/x-python",
   "name": "python",
   "nbconvert_exporter": "python",
   "pygments_lexer": "ipython3",
   "version": "3.8.8"
  }
 },
 "nbformat": 4,
 "nbformat_minor": 5
}
