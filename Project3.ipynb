{
 "cells": [
  {
   "cell_type": "markdown",
   "id": "6dc035e8-5d3e-4771-b1b6-dc157d4aafb2",
   "metadata": {},
   "source": [
    "Link demo: https://share.streamlit.io/thanhtruong1712/fake-news-detection/streamlit.py"
   ]
  },
  {
   "cell_type": "markdown",
   "id": "c33b833d-1eb0-4771-b3dc-601690a7bc33",
   "metadata": {},
   "source": [
    "Tiến độ hoàn thành của Project : 100%"
   ]
  },
  {
   "cell_type": "markdown",
   "id": "e2cd29dc-ed8c-4cf6-9323-d0d73d0af70a",
   "metadata": {},
   "source": [
    "## Danh sách thành viên trong nhóm\n",
    "| MSSV        | Họ và tên          | \n",
    "| ----------- | -----------------  | \n",
    "| 1712722     | Trần Đình Sang     |\n",
    "| 1712770     | Trương Thị Lệ Thanh|\n",
    "| 1712771     | Bùi Thái Tấn Thành | \n",
    "| 1712778     | Thống A Thảo       |        "
   ]
  },
  {
   "cell_type": "markdown",
   "id": "bfc26d25-35c2-4ad3-9ae9-cdd681e25e1a",
   "metadata": {},
   "source": [
    "## Bảng phân công công việc\n",
    "| Công việc | Thành viên phụ trách | Mức độ hoàn thành | \n",
    "| --------| -----------------  | ---------------------|\n",
    "| Tiền xử lý văn bản tiếng Việt | Thanh & Thành | 100% |\n",
    "| EDA (khám phá dữ liệu) | Sang & Thảo | 0% |\n",
    "| Mô hình hóa | Thanh & Thành | 100% |\n",
    "| Deploy mô hình | Sang & Thảo | 0% |\n"
   ]
  },
  {
   "cell_type": "markdown",
   "id": "2f70b860-b67f-4a28-a253-2b9547cc8ab9",
   "metadata": {},
   "source": [
    "# I. Dữ liệu"
   ]
  },
  {
   "cell_type": "markdown",
   "id": "55321420-ac4d-4b1c-9153-a41d3ca64d17",
   "metadata": {},
   "source": [
    "## Thông tin dữ liệu"
   ]
  },
  {
   "cell_type": "markdown",
   "id": "9cd5ae99-6118-4eb2-a8a6-4d5373111e04",
   "metadata": {},
   "source": [
    "#### Nguồn dữ liệu: VNFD Dataset"
   ]
  },
  {
   "cell_type": "markdown",
   "id": "1ebfc5d6-8ebb-435a-bf03-2e632165fb15",
   "metadata": {},
   "source": [
    "- Tập dữ liệu 223 record bản tin tiếng Việt, gồm 2 nhãn: 1 (tin giả) và 0 (tin thật)"
   ]
  },
  {
   "cell_type": "markdown",
   "id": "f80a5744-71f7-4d27-8491-e5f04b51a42d",
   "metadata": {},
   "source": [
    "# II. Import các thư viện cần thiết"
   ]
  },
  {
   "cell_type": "code",
   "execution_count": 1,
   "id": "4dbc9cb1-61de-4d98-b6ec-e18f0bba3373",
   "metadata": {},
   "outputs": [
    {
     "name": "stderr",
     "output_type": "stream",
     "text": [
      "2022-01-06 23:58:32.566929: W tensorflow/stream_executor/platform/default/dso_loader.cc:64] Could not load dynamic library 'libcudart.so.11.0'; dlerror: libcudart.so.11.0: cannot open shared object file: No such file or directory\n",
      "2022-01-06 23:58:32.567008: I tensorflow/stream_executor/cuda/cudart_stub.cc:29] Ignore above cudart dlerror if you do not have a GPU set up on your machine.\n",
      "[nltk_data] Downloading package wordnet to\n",
      "[nltk_data]     /home/thanhtruong/nltk_data...\n",
      "[nltk_data]   Package wordnet is already up-to-date!\n",
      "[nltk_data] Downloading package omw-1.4 to\n",
      "[nltk_data]     /home/thanhtruong/nltk_data...\n",
      "[nltk_data]   Package omw-1.4 is already up-to-date!\n",
      "[nltk_data] Downloading package punkt to\n",
      "[nltk_data]     /home/thanhtruong/nltk_data...\n",
      "[nltk_data]   Package punkt is already up-to-date!\n"
     ]
    }
   ],
   "source": [
    "import pandas as pd\n",
    "import numpy as np\n",
    "import re\n",
    "import string\n",
    "import nltk\n",
    "import sklearn\n",
    "import pickle\n",
    "import tensorflow\n",
    "nltk.download('wordnet')\n",
    "nltk.download('omw-1.4')\n",
    "nltk.download('punkt')\n",
    "from tqdm import tqdm\n",
    "from nltk.corpus import stopwords\n",
    "from nltk.stem import WordNetLemmatizer\n",
    "from nltk.tokenize import word_tokenize\n",
    "# from nltk.stem.wordnet import WordNetLemmatizer\n",
    "from tensorflow.keras.models import Model, load_model\n",
    "from tensorflow.keras.preprocessing.text import Tokenizer\n",
    "from tensorflow.keras.layers import Input, Embedding\n",
    "from sklearn.model_selection import train_test_split\n",
    "from sklearn.pipeline import Pipeline\n",
    "from sklearn.feature_extraction.text import CountVectorizer\n",
    "from sklearn.feature_extraction.text import TfidfTransformer\n",
    "from sklearn.metrics import plot_confusion_matrix,roc_curve,auc\n",
    "from sklearn.linear_model import LogisticRegression\n",
    "from sklearn.ensemble import GradientBoostingClassifier\n",
    "import matplotlib.pyplot as plt"
   ]
  },
  {
   "cell_type": "markdown",
   "id": "63ab6757-0c63-4ef8-ad4a-68f62445b9ae",
   "metadata": {},
   "source": [
    "# III. Khám phá dữ liệu"
   ]
  },
  {
   "cell_type": "markdown",
   "id": "59c182fb-c9ac-4a3d-b2dc-f51161e3b730",
   "metadata": {},
   "source": [
    "### Đọc dữ liệu từ file csv vào dataframe"
   ]
  },
  {
   "cell_type": "code",
   "execution_count": 26,
   "id": "0fdad32b-8b85-451a-ba1c-934fb79bb522",
   "metadata": {},
   "outputs": [
    {
     "data": {
      "text/plain": [
       "'Đại học Hutech sẽ áp dụng cải cách \"Tiếq Việt\" vào năm học 2018?\\nMới đây, ông Phạm Ngọc Thanh, Phó giám đốc Sở GD – ĐT Tp. Hồ Chí Minh chuyên trách về Hệ giáo dục Đại học tại thành phố đã lên tiếng về vấn đề cải cách tiếng Tiếng Việt của PGS.TS Bùi Hiền.\\nÔng cho biết TP.HCM đặc biệt quan tâm đến đề xuất của PGS và rất sẵn lòng thí điểm vào giảng dạy tại các trường Đại học trên địa bàn TP.HCM.\\nÔng Phạm Ngọc Thanh, Phó Giám đốc Sở GDĐT TP.HCM.\\nPhó giám đốc Sở GDĐT TP.HCM Phạm Ngọc Thanh chia sẻ rằng TP.HCM là thành phố phát triển với số lượng người nước ngoài cư trú, làm việc và học tập nhiều nhất cả nước. Rất nhiều người trong số đó mong muốn được học Tiếng Việt để giúp ích cho việc sinh sống và làm việc tại Việt Nam một cách thuận tiện hơn. Tuy nhiên, với cấu trúc ngữ pháp cũng như cách phát âm phức tạp của bộ chữ hiện tại thì khá khó khăn để người nước ngoài có thể học tập.\\nSau khi xem xét và tìm hiểu toàn bộ nghiên cứu và đề xuất cải tiến bảng chữ cái Tiếng Việt của PGS.TS Bùi Hiền, ông Phạm Ngọc Thanh cho rằng đây là một nghiên cứu cực kỳ có giá trị trong việc thay đổi hầu hết những rắc rối mà bộ chữ hiện tại đang gặp phải như trùng âm, trùng nghĩa… Nếu có thể áp dụng bộ chữ mới của PGS.TS Bùi Hiền thì việc phổ cập Tiếng Việt đến mọi người sẽ dễ dàng hơn rất nhiều.\\nPGS.TS. Bùi Hiền và đề xuất cải tiến bảng chữ cái Tiếng Việt gây tranh cãi.\\nDo đó ông Phạm Ngọc Thanh đã đề nghị Sở GDĐT TP.HCM cho phép triển khai đưa nghiên cứu cải tiến bảng chữ cái của PGS.TS Bùi Hiền áp dụng thí điểm giảng dạy ở các trường Đại học trên địa bàn TP.HCM.\\nĐề xuất cải tiến chữ viết của PGS Bùi Hiền\\nÔng Phạm Ngọc Thanh cũng cho biết thêm, ngoài đảm đương chức vụ Phó Giám đốc Sở GDĐT TP.HCM, ông còn là cổ đông lớn có quyền quyết định về chuyên môn tại Đại học HUTECH. Nên trước mắt, ông Thanh đã cho các Giảng viên chuyên môn của HUTECH tập trung nghiên cứu về đề xuất này, để có thể triển khai ngay vào giảng dạy tại ĐH HUTECH trong năm 2018.\\nTâm thư của sĩ quan QĐND Việt Nam gửi PGS. TS Bùi Hiền nhận mưa lời khen từ dân mạng\\nMấy ngày gần đây, đề xuất cải tiến Tiếng Việt của PGS.TS Bùi Hiền bị cư dân mạng ‘ném đá’ dữ dội. Mới đây, một sĩ quan Quân đội nhân dân (QĐND) Việt Nam đã viết tâm thư gửi vị PGS.TS này để bày tỏ quan điểm về đề xuất cải tiến tiếng Việt của ông khiến cộng đồng mạng vô cùng chú ý.\\nChỉ sau vài giờ đăng tải, bức tâm thư của người sĩ quan này đã nhận được sự hưởng ứng vô cùng nhiệt tình của cư dân mạng.\\nKhác với những phản ứng gay gắt của dư luận nhiều ngày qua, người sĩ quan này tỏ ra rất tôn trọng công trình nghiên cứu của PGS.TS Bùi Hiền. Trước khi viết tâm thư, anh cũng đã thử đi ngược lại dư luận bởi những phát minh vĩ đại trước đây đều bị người ta xem là điên rồ.\\n“Thưa Phó giáo sư – Tiến sĩ Bùi Hiền!\\nĐầu tiên, cháu cảm ơn tâm huyết 40 năm nghiên cứu ngôn ngữ Tiếng Việt của Phó giáo sư- Tiến sĩ.\\nThưa PGS-TS Bùi Hiền, cháu không phải là giới nghiên cứu. Cháu chỉ là anh lính canh trời trong QĐND Việt Nam, nhưng thú thật với PGS-TS Bùi Hiền, mấy hôm nay cháu và mọi người bất an quá. Thậm chí rất bức xúc, rất giận PGS-TS, PGS-TS Bùi Hiền có biết không?\\nĐôi lúc, cháu cũng đã nghĩ ngược lại suy nghĩ của quần chúng xem như thế nào? Nghĩa là cháu liên hệ với các phát minh trên thế giới, trước kia người ta bảo rằng đấy là điên rồ. Nhưng sau đấy lại là công trình vĩ đại được ứng dụng cho nhân loại”.\\nBức tâm thư vị sĩ quan Quân đội Nhân dân Việt Nam gửi PGS.TS Bùi Hiền – Ảnh chụp màn hình\\nTuy nhiên, không phải bất cứ công trình nào nghiên cứu nào đi ngược lại với đám đông cũng sẽ trở thành công trình vĩ đại. Sở dĩ những phát minh trong quá khứ được công nhận là bởi nó không ảnh hưởng đến tình cảm, tư tưởng của mọi người.\\nTrong khi đó, bảng chữ cái tiếng Việt mà chúng ta sử dụng được xây dựng bởi mồ hôi, nước mắt thậm chí là xương máu của biết bao chiến sĩ khi cố gắng thực hiện công tác xóa mù chữ cho dân ta trong thời chiến.\\nAnh viết: “PGS-TS có biết rằng trước đấy, thực dân Pháp đã thực hiện chính sách ngu dân, toàn dân không biết chữ để buộc ta phải chui háng của chúng, phục dịch Pháp, chúng làm cho nhân dân ta bĩ cực, không dám nghĩ đến phẩm hạnh, phẩm giá dân tộc mình.\\nThưa, may phúc cho dân tộc ta có Bác Hồ, có Đảng Cộng Sản lãnh đạo phong trào cách mạng, khai sinh ra Nước VNDCCH (Việt Nam Dân chủ Cộng hòa) nay là CHXHCN VN (Cộng hòa Xã hội Chủ nghĩa Việt Nam). Cũng trong năm 1945 Bác Hồ của chúng ta đã ra lệnh phải tiêu diệt giặc đói, giặc dốt. Bác đã gầy dựng phong trào, chỉ đạo, đôn đốc, kiểm tra tỉ mỉ tiến độ các lớp Bình dân học vụ, nhằm phổ cập chữ Quốc ngữ. Từ ngày Bác mất đến nay, chúng ta đã vâng lời của Người, đã đạt được nhiều thành quả trong sự nghiệp trồng người.\\nTâm thư của sĩ quan QĐND Việt Nam gửi PGS. TS Bùi Hiền nhận mưa lời khen từ dân mạng - Ảnh 6\\nĐề xuất cải cách bảng chữ cái của PGS.TS Bùi Hiền nhận nhiều phản ứng gay gắt từ cư dân mạng – Ảnh: Internet\\nThế nhưng, vẫn còn đâu đó trẻ em vùng cao khó nhọc cõng chữ, thất học, không biết viết. Bây giờ, nếu, với cái đề án chữ mới này, nếu được thông qua, thì không chỉ đâu đó vùng cao, mà toàn dân bỗng dưng mù chữ vì phải đi học lại chữ mới của PGS-TS đề xuất? Chưa kể là thay tên nước, thay đổi cả hiến pháp, hệ thống văn bản trong tất cả các ngành và thay đổi cả đồng tiền. Điều đó thiệt hại quá sức chịu đựng về vật chất, tinh thần….”.\\nVị sĩ quan này cho rằng nếu đề án chữ mới này được thông qua thì toàn dân ta bỗng dưng trở nên mù chữ, chẳng khác gì quay lại thời kỳ Pháp thuộc, khi mà chúng cố gắng ngu hóa người dân. Bởi vì thay đổi bảng chữ cái, đồng nghĩa với việc thay đổi cả hiến pháp, hệ thống văn bản trong tất cả các ngành cũng như thay đổi đồng tiền. Như PGS.TS Bùi Hiền đã nói trước đó, đề xuất này sẽ giúp chúng ta tiết kiệm được thời gian, nhưng nó lại “gây thiệt hại quá sức chịu đựng về vật chất, tinh thần”.\\nTâm thư của sĩ quan QĐND Việt Nam gửi PGS. TS Bùi Hiền nhận mưa lời khen từ dân mạng - Ảnh 7\\nChi tiết bảng chữ cái mới trong đề xuất cải cách của PGS.TS Bùi Hiền – Ảnh: Internet\\nVề PGS.TS Bùi Hiền và TS.Khoa học Ngữ văn Đoàn Hương, anh viết: “Chính hai vị đang khủng bố tinh thần nhân dân bằng cái đề án động trời, đối chọi tâm tư nhân dân ắt sẽ có sự phản kháng. Kiểu như khi thấy con trăn đói lao vào tấn công, người ta sẽ nhanh chóng chộp lấy khúc cây. Mặc dù họ không muốn sát sinh bất kỳ con gì, nhưng vì buộc phải tự vệ, điều đó là đúng”.\\nSau khi được một trang fanpage chia sẻ lại, bức tâm thư này đã nhận được sự hưởng ứng nhiệt tình của cư dân mạng. Họ ủng hộ vị sĩ quan này bởi anh đã thay mặt nhiều người nói lên nỗi niềm của họ.\\nDù đã nhiều giờ trôi qua nhưng bức tâm thư này vẫn đang được cư dân mạng chia sẻ rầm rộ.\\nGS Trần Đình Sử: “Toàn dân Việt Nam đang THOÁT NẠN mù chữ lại mù chữ TRỞ LẠI”\\nThời gian gần đây, dư luận đặc biệt quan tâm đến đề xuất cải cách tiếng Việt của PGS.TS Bùi Hiền (Nguyên Hiệu phó trường ĐHSP Ngoại ngữ Hà Nội, nguyên phó Viện trưởng Viện Nội dung & Phương pháp dạy – học phổ thông). Tác giả chỉ ra vấn đề rằng trải qua gần một thế kỷ, đến nay chữ quốc ngữ đã bộc lộ nhiều bất hợp lý.\\nTheo đó, chúng ta thường sử dụng 2, 3 chữ cái để biểu đạt một âm vị phụ âm đứng đầu. Ví dụ C – Q – K (cuốc, quốc, ca, kali), Tr – Ch (tra, cha), S – X (sa, xa)… Bên cạnh đó, lại dùng 2 chữ cái ghép lại để biểu đạt âm vị một số phụ âm đứng cuối vần như Ch, Ng, Nh (mách, ông, tanh…).\\nTác giả đề xuất bỏ chữ Đ ra khỏi bảng chữ cái tiếng Việt hiện hành và bổ sung thêm một số chữ cái tiếng Latin như F, J, W, Z. Bên cạnh đó, thay đổi giá trị âm vị của 11 chữ cái hiện có trong bảng trên, cụ thể: C = Ch, Tr; D = Đ; G = G, Gh; F = Ph; K = C, Q, K; Q = Ng, Ngh; R = R; S = S; X = Kh; W =Th; Z = d, gi, r. Vì âm “nhờ” (nh) chưa có kí tự mới thay thế, nên trong văn bản trên tạm thời dùng kí tự ghép n’ để biểu đạt.\\nGS Trần Đình Sử đã có những nhận định sau:\\nNếu cái chữ của ông ấy mà được thông qua, thì toàn dân Việt Nam đang thoát nạn mù chữ lại mù chữ trở lại.\\nToàn bộ sách báo hơn một trăm năm qua không thể đọc được, muốn đọc phải học lại chữ cũ, hoặc lại phải phiên dịch lại theo chữ viét mới mói đọc được. Thế là cắt đứt các mội liên hệ với văn hoá mà người Việt đã tích luỹ được trong hơn một thế kỉ. Người Việt ở các nước trên thế giới đều phải học lại tiếng Việt.\\nToàn bộ giấy tờ công văn,luật pháp, nghị quyết…đều phải viết lại theo chữ mới. Muốn làm được việc đó lại phải tốn kém không biết bao nhiêu là tiền. Lại phải viết lại toàn bộ sách giáo khoa, các văn kiện theo chữ mới, cả nước đều phải làm chứng minh thư, hộ khẩu mới, khắc dấu lại, các sứ quán Việt Nam trên thế giới phải thay đổi chữ viết. Tóm lại là làm hại công quỹ, thì giờ, công sức một cách vô ích.\\nMọi nghiên cứu khoa học đều phải có mục đích nhân văn, kinh tế, xã hội. Đề xuất của ông Hiền, vì trình độ hiểu biết xã hội và văn hoá, kinh tế quá thấp kém, sẽ gây tác hại rất to lớn cho đất nước. Nó là sự huỷ hoại văn hoá.'"
      ]
     },
     "execution_count": 26,
     "metadata": {},
     "output_type": "execute_result"
    }
   ],
   "source": [
    "df = pd.read_csv('vn_news_223_tdlfr.csv')\n",
    "# df.head()\n",
    "df.text[4]"
   ]
  },
  {
   "cell_type": "markdown",
   "id": "6f058e50-2a5a-4d84-8970-d49041a56de2",
   "metadata": {},
   "source": [
    "### Dữ liệu gồm có bao nhiêu dòng và bao nhiêu cột?"
   ]
  },
  {
   "cell_type": "code",
   "execution_count": 3,
   "id": "b1b88a31-fe95-465d-b39b-a643c0067d2a",
   "metadata": {},
   "outputs": [
    {
     "name": "stdout",
     "output_type": "stream",
     "text": [
      "Dữ liệu có 223 dòng và 3 cột\n"
     ]
    }
   ],
   "source": [
    "rows, collumns = df.shape\n",
    "print(\"Dữ liệu có {} dòng và {} cột\".format(rows, collumns))"
   ]
  },
  {
   "cell_type": "markdown",
   "id": "bb481562-2011-497b-8d16-a76b6eb24404",
   "metadata": {},
   "source": [
    "## 1.  Tiền xử lý văn bản tiếng Việt"
   ]
  },
  {
   "cell_type": "markdown",
   "id": "cbfbd37e-eabf-4bc7-8e4a-dd331ef49182",
   "metadata": {},
   "source": [
    "### Các bước tiền xử lý văn bản cơ bản gồm: \n",
    "- Lowercase\n",
    "- Loại stopwords\n",
    "- Tokenizer\n",
    "- Stemming\n",
    "- Loại noise\n",
    "- Loại dấu câu"
   ]
  },
  {
   "cell_type": "markdown",
   "id": "79217cdd-a597-4d6f-b185-e61558b60370",
   "metadata": {},
   "source": [
    "#### Đọc dữ liệu stopwords từ file txt"
   ]
  },
  {
   "cell_type": "code",
   "execution_count": 4,
   "id": "ea365870-5557-40d0-a398-df2d5525a473",
   "metadata": {},
   "outputs": [],
   "source": [
    "def get_stopword_list(filename):\n",
    "    with open(filename,'r',encoding='utf-8') as f:\n",
    "        stopwords=f.readlines()\n",
    "        stopset=set(m.strip() for m in stopwords)\n",
    "        return list(frozenset(stopset))\n",
    "stopwords=set(get_stopword_list('vietnamese.txt'))"
   ]
  },
  {
   "cell_type": "code",
   "execution_count": 5,
   "id": "3c9b7a8a-79e8-4dfd-bd42-b8e322426f08",
   "metadata": {},
   "outputs": [],
   "source": [
    "regex = re.compile('[%s]' % re.escape(string.punctuation))\n",
    "wordnet = WordNetLemmatizer()"
   ]
  },
  {
   "cell_type": "markdown",
   "id": "4b2b992e-4c8a-40ad-aa97-4c31a92ee7b8",
   "metadata": {},
   "source": [
    "#### Hàm tiền xử lý văn bản tiếng Việt"
   ]
  },
  {
   "cell_type": "code",
   "execution_count": 6,
   "id": "fee5d2f1-50c3-4679-a11d-5c47503987e4",
   "metadata": {},
   "outputs": [],
   "source": [
    "def preprocessing_basic(text):\n",
    "    text = re.sub(r'http\\S+','', text)  #Loại noise(xóa link)\n",
    "    text = re.sub(\"\\\\W\", ' ', text)     # Xóa khoảng trắng thừa\n",
    "    #Loại tokenizer và dấu câu\n",
    "    token_doc = word_tokenize(text)\n",
    "    result_token = []\n",
    "    for i in token_doc:\n",
    "        new_token = regex.sub(u'',i)\n",
    "        if not new_token == u'':\n",
    "            result_token.append(new_token)\n",
    "    #Loại stopwords\n",
    "    result_stopwords = []\n",
    "    for text in result_token:\n",
    "        tmp = text.split(' ')\n",
    "        for i in tmp:\n",
    "            if not i in stopwords :\n",
    "                result_stopwords.append(i)\n",
    "    #Xử lý stemming và lemmatizion\n",
    "    final_doc = []\n",
    "    for i in result_stopwords:\n",
    "        final_doc.append(wordnet.lemmatize(i))\n",
    "    return ' '.join(final_doc).lower()"
   ]
  },
  {
   "cell_type": "code",
   "execution_count": 7,
   "id": "08586b32-a649-4ea5-a73f-3ac119875bf5",
   "metadata": {},
   "outputs": [
    {
     "name": "stderr",
     "output_type": "stream",
     "text": [
      "100%|█████████████████████████████████████████████████████████████████████████████████████████████████████████████████████████████████| 223/223 [00:04<00:00, 54.56it/s]\n"
     ]
    }
   ],
   "source": [
    "tqdm.pandas()\n",
    "df.text = df.text.progress_map(preprocessing_basic)\n",
    "#df.text[2]"
   ]
  },
  {
   "cell_type": "markdown",
   "id": "3dc62a17",
   "metadata": {},
   "source": [
    "## 2. EDA (Khám phá dữ liệu)"
   ]
  },
  {
   "cell_type": "markdown",
   "id": "778c164c",
   "metadata": {},
   "source": [
    "#### Thông tin dữ liệu:"
   ]
  },
  {
   "cell_type": "code",
   "execution_count": 8,
   "id": "9cbc8106",
   "metadata": {},
   "outputs": [
    {
     "name": "stdout",
     "output_type": "stream",
     "text": [
      "<class 'pandas.core.frame.DataFrame'>\n",
      "RangeIndex: 223 entries, 0 to 222\n",
      "Data columns (total 3 columns):\n",
      " #   Column  Non-Null Count  Dtype \n",
      "---  ------  --------------  ----- \n",
      " 0   text    223 non-null    object\n",
      " 1   domain  223 non-null    object\n",
      " 2   label   223 non-null    int64 \n",
      "dtypes: int64(1), object(2)\n",
      "memory usage: 5.4+ KB\n"
     ]
    }
   ],
   "source": [
    "df.info()"
   ]
  },
  {
   "cell_type": "markdown",
   "id": "a2d17f70",
   "metadata": {},
   "source": [
    "Ta thấy dữ liệu không bị thiếu, kiểu dữ liệu không sai"
   ]
  },
  {
   "cell_type": "markdown",
   "id": "4675e879-1cad-45dc-a7a1-b03e61858a8f",
   "metadata": {},
   "source": [
    "#### Kiểm tra các dòng có bị lặp không?"
   ]
  },
  {
   "cell_type": "code",
   "execution_count": 9,
   "id": "950e6a67",
   "metadata": {},
   "outputs": [
    {
     "name": "stdout",
     "output_type": "stream",
     "text": [
      "Số dòng dữ liệu bị lặp:  0\n"
     ]
    }
   ],
   "source": [
    "print('Số dòng dữ liệu bị lặp: ',df.index.duplicated().sum())"
   ]
  },
  {
   "cell_type": "markdown",
   "id": "d18fe166-31cf-42a1-a9be-e0b962564343",
   "metadata": {},
   "source": [
    "#### Kiểm tra phân bố các class có chênh lệch không?"
   ]
  },
  {
   "cell_type": "code",
   "execution_count": 10,
   "id": "317bbb0c",
   "metadata": {},
   "outputs": [
    {
     "data": {
      "text/plain": [
       "0    123\n",
       "1    100\n",
       "Name: label, dtype: int64"
      ]
     },
     "execution_count": 10,
     "metadata": {},
     "output_type": "execute_result"
    }
   ],
   "source": [
    "df['label'].value_counts()"
   ]
  },
  {
   "cell_type": "markdown",
   "id": "b587c24f-f514-4cf7-a20c-f20c74ce7fe2",
   "metadata": {},
   "source": [
    "#### Các thông tin thống kê của văn bản "
   ]
  },
  {
   "cell_type": "code",
   "execution_count": 11,
   "id": "d2350791-636d-42b7-b2f9-096c0f5d3128",
   "metadata": {},
   "outputs": [
    {
     "name": "stdout",
     "output_type": "stream",
     "text": [
      "Chiều dài trung bình của mỗi record:  1491.812\n"
     ]
    }
   ],
   "source": [
    "record_len = df.text.str.len()\n",
    "print(\"Chiều dài trung bình của mỗi record: \",(record_len.sum()/len(record_len)).round(3))"
   ]
  },
  {
   "cell_type": "markdown",
   "id": "40fbd133-c17a-44a2-b9cc-d66fd7b9f570",
   "metadata": {},
   "source": [
    "# IV. Mô hình hóa dữ liệu"
   ]
  },
  {
   "cell_type": "code",
   "execution_count": 12,
   "id": "b91b7b72",
   "metadata": {},
   "outputs": [],
   "source": [
    "#Hàm vẽ ma trận\n",
    "def plot_matrix(classifier,X_test,Y_test):\n",
    "    class_name=df.label.value_counts()\n",
    "    np.set_printoptions(precision=2)\n",
    "    titles_options=[(\"confusion matrix,without normalization\",None),(\"normalized confusion matrix\",None)]\n",
    "    for title,normalize in titles_options:\n",
    "        disp=plot_confusion_matrix(classifier,X_test,Y_test,display_labels=class_name,cmap=plt.cm.Blues,normalize=normalize)\n",
    "        disp.ax_.set_title(title)\n",
    "        print(title)\n",
    "        print(disp.confusion_matrix)\n",
    "\n",
    "        \n",
    "def upload_classifier(classifier):\n",
    "    X_train,X_test,Y_train,Y_test=train_test_split(df.text,df.label,test_size=0.25,random_state=2020)\n",
    "    pipe=Pipeline([('vect',CountVectorizer()),('tfidf',TfidfTransformer()),('model',classifier)])\n",
    "    model=pipe.fit(X_train,Y_train)\n",
    "    prediction=model.predict(X_test)\n",
    "    prob=model.predict_proba(X_test)\n",
    "    plot_matrix(classifier=model,X_test=X_test,Y_test=Y_test)\n",
    "    return model,prob,Y_test\n",
    "\n",
    "def generate_roc_curve(model,Y_test,prob,title):\n",
    "    pred=prob[:,1]\n",
    "    fpr,tpr,threshold=roc_curve(Y_test,pred)\n",
    "    roc_auc=auc(fpr,tpr)\n",
    "    plt.title('{}'.format(title))\n",
    "    plt.plot(fpr,tpr,'b',label='auc=%0.2f' % roc_auc)\n",
    "    plt.legend(loc='lower right')\n",
    "    plt.plot([0,1],[0,1],'r--')\n",
    "    plt.xlim([0,1])\n",
    "    plt.ylim([0,1])\n",
    "    plt.ylabel('True Positive Rate')\n",
    "    plt.xlabel('False Positive Rate')\n",
    "    plt.show()"
   ]
  },
  {
   "cell_type": "markdown",
   "id": "7dd5aa8d-40ca-4f13-84fc-e7d7f62ffd66",
   "metadata": {},
   "source": [
    "## Logistic Regression"
   ]
  },
  {
   "cell_type": "code",
   "execution_count": 13,
   "id": "38798a9f-c03b-46ea-bdbb-10e3f2173c7b",
   "metadata": {},
   "outputs": [
    {
     "name": "stdout",
     "output_type": "stream",
     "text": [
      "confusion matrix,without normalization\n",
      "[[26  1]\n",
      " [10 19]]\n",
      "normalized confusion matrix\n",
      "[[26  1]\n",
      " [10 19]]\n"
     ]
    },
    {
     "data": {
      "image/png": "[encoded data removed]",
      "text/plain": [
       "<Figure size 432x288 with 2 Axes>"
      ]
     },
     "metadata": {
      "needs_background": "light"
     },
     "output_type": "display_data"
    },
    {
     "data": {
      "image/png": "[encoded data removed]",
      "text/plain": [
       "<Figure size 432x288 with 2 Axes>"
      ]
     },
     "metadata": {
      "needs_background": "light"
     },
     "output_type": "display_data"
    }
   ],
   "source": [
    "LR_model,prob,Y_test=upload_classifier(classifier=LogisticRegression())"
   ]
  },
  {
   "cell_type": "code",
   "execution_count": 14,
   "id": "607a1de5-57c1-4aa9-aaf3-ccdd6d024d25",
   "metadata": {},
   "outputs": [
    {
     "data": {
      "image/png": "[encoded data removed]",
      "text/plain": [
       "<Figure size 432x288 with 1 Axes>"
      ]
     },
     "metadata": {
      "needs_background": "light"
     },
     "output_type": "display_data"
    }
   ],
   "source": [
    "generate_roc_curve(model=LR_model,Y_test=Y_test,prob=prob,title='Logistic Regression')"
   ]
  },
  {
   "cell_type": "markdown",
   "id": "6b056f62-e66e-4159-a181-64279bb82a1c",
   "metadata": {},
   "source": [
    "## Gradient Boost Classifier"
   ]
  },
  {
   "cell_type": "code",
   "execution_count": 15,
   "id": "4c01b908-542b-4a0f-a07f-a26b944cd4c9",
   "metadata": {},
   "outputs": [
    {
     "name": "stdout",
     "output_type": "stream",
     "text": [
      "confusion matrix,without normalization\n",
      "[[22  5]\n",
      " [11 18]]\n",
      "normalized confusion matrix\n",
      "[[22  5]\n",
      " [11 18]]\n"
     ]
    },
    {
     "data": {
      "image/png": "[encoded data removed]",
      "text/plain": [
       "<Figure size 432x288 with 2 Axes>"
      ]
     },
     "metadata": {
      "needs_background": "light"
     },
     "output_type": "display_data"
    },
    {
     "data": {
      "image/png": "[encoded data removed]",
      "text/plain": [
       "<Figure size 432x288 with 2 Axes>"
      ]
     },
     "metadata": {
      "needs_background": "light"
     },
     "output_type": "display_data"
    }
   ],
   "source": [
    "GBC_model,prob,Y_test=upload_classifier(classifier=GradientBoostingClassifier())"
   ]
  },
  {
   "cell_type": "code",
   "execution_count": 16,
   "id": "53c2a02e-13ae-45d2-b806-d46bfef91b76",
   "metadata": {},
   "outputs": [
    {
     "data": {
      "image/png": "[encoded data removed]",
      "text/plain": [
       "<Figure size 432x288 with 1 Axes>"
      ]
     },
     "metadata": {
      "needs_background": "light"
     },
     "output_type": "display_data"
    }
   ],
   "source": [
    "generate_roc_curve(model=GBC_model,Y_test=Y_test,prob=prob,title='GradientBoostingClassifier')"
   ]
  },
  {
   "cell_type": "code",
   "execution_count": 17,
   "id": "552445bb-3fe1-429e-91f2-56381c9213a7",
   "metadata": {},
   "outputs": [],
   "source": [
    "model_file_list = [r\"models/LR_model.pkl\",\n",
    "                   r\"models/GBC_model.pkl\"]\n",
    "\n",
    "model_list = [LR_model,GBC_model]\n",
    "\n",
    "for model, filename in zip(model_list, model_file_list):\n",
    "    pickle.dump(model, open(filename, 'wb'))"
   ]
  },
  {
   "cell_type": "code",
   "execution_count": 18,
   "id": "4d75e352-b6df-40b6-955f-cd1bc5533ce4",
   "metadata": {},
   "outputs": [],
   "source": [
    "def pre_tokenizer(text, maxword):\n",
    "    tokenizer = Tokenizer(num_words = maxword)\n",
    "    tokenizer.fit_on_texts(text)\n",
    "    with open('tokenizer.pickle','wb') as f:\n",
    "        pickle.dump(tokenizer, f, protocol = pickle.HIGHEST_PROTOCOL)\n",
    "pre_tokenizer(df.text, 200)"
   ]
  }
 ],
 "metadata": {
  "kernelspec": {
   "display_name": "Python 3 (ipykernel)",
   "language": "python",
   "name": "python3"
  },
  "language_info": {
   "codemirror_mode": {
    "name": "ipython",
    "version": 3
   },
   "file_extension": ".py",
   "mimetype": "text/x-python",
   "name": "python",
   "nbconvert_exporter": "python",
   "pygments_lexer": "ipython3",
   "version": "3.8.8"
  }
 },
 "nbformat": 4,
 "nbformat_minor": 5
}
